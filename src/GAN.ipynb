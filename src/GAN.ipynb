{
 "cells": [
  {
   "cell_type": "code",
   "execution_count": 164,
   "metadata": {},
   "outputs": [
    {
     "name": "stdout",
     "output_type": "stream",
     "text": [
      "mps\n"
     ]
    }
   ],
   "source": [
    "import torch\n",
    "import torch.nn as nn\n",
    "from torch.nn import functional as F\n",
    "from torch.utils.data import TensorDataset,DataLoader\n",
    "from data import load_traindata\n",
    "device = 'mps' if torch.backends.mps.is_available() else ('cuda' if torch.cuda.is_available() else 'cpu')\n",
    "print(device)\n",
    "import numpy as np\n",
    "import matplotlib.pyplot as plt\n",
    "from torch.utils.data import random_split\n",
    "from torch.optim.lr_scheduler import LambdaLR"
   ]
  },
  {
   "cell_type": "code",
   "execution_count": 165,
   "metadata": {},
   "outputs": [
    {
     "data": {
      "text/plain": [
       "<torch._C.Generator at 0x10b203470>"
      ]
     },
     "execution_count": 165,
     "metadata": {},
     "output_type": "execute_result"
    }
   ],
   "source": [
    "torch.manual_seed(42)"
   ]
  },
  {
   "cell_type": "code",
   "execution_count": 166,
   "metadata": {},
   "outputs": [],
   "source": [
    "num_subclasses = 100\n",
    "epochs = 1000\n",
    "seq_size = 1250\n",
    "batch_size = 128\n",
    "num_aug = 2\n",
    "split_size=0.8"
   ]
  },
  {
   "cell_type": "code",
   "execution_count": 167,
   "metadata": {},
   "outputs": [],
   "source": [
    "class Discriminator(nn.Module):\n",
    "    def __init__(self, seq_size, num_filters=64):\n",
    "        super(Discriminator, self).__init__()\n",
    "\n",
    "        self.conv1 = nn.Conv1d(in_channels=1, out_channels=num_filters, kernel_size=4, stride=2, padding=1)\n",
    "        self.leakyRelu = nn.LeakyReLU(0.2)\n",
    "\n",
    "        self.conv2 = nn.Conv1d(in_channels=num_filters, out_channels=num_filters*2, kernel_size=4, stride=2, padding=1)\n",
    "        self.bn1 = nn.BatchNorm1d(num_filters*2)\n",
    "\n",
    "        self.conv3 = nn.Conv1d(in_channels=num_filters*2, out_channels=num_filters*4, kernel_size=4, stride=2, padding=1)\n",
    "        self.bn2 = nn.BatchNorm1d(num_filters*4)\n",
    "\n",
    "        self.conv4 = nn.Conv1d(in_channels=num_filters*4, out_channels=num_filters*8, kernel_size=4, stride=2, padding=1)\n",
    "        self.bn3 = nn.BatchNorm1d(num_filters*8)\n",
    "\n",
    "        self.conv5 = nn.Conv1d(in_channels=num_filters*8, out_channels=num_filters*8, kernel_size=4, stride=2, padding=1)\n",
    "        self.bn4 = nn.BatchNorm1d(num_filters*8)\n",
    "\n",
    "        self.conv6 = nn.Conv1d(in_channels=num_filters*8, out_channels=1, kernel_size=4, stride=2, padding=1)\n",
    "        self.op = nn.Linear(19,1)\n",
    "        self.sigmoid = nn.Sigmoid()\n",
    "\n",
    "    def forward(self, x):\n",
    "        x = self.conv1(x)\n",
    "        x = self.leakyRelu(x)\n",
    "\n",
    "        x = self.conv2(x)\n",
    "        x = self.bn1(x)\n",
    "        x = self.leakyRelu(x)\n",
    "\n",
    "        x = self.conv3(x)\n",
    "        x = self.bn2(x)\n",
    "        x = self.leakyRelu(x)\n",
    "\n",
    "        x = self.conv4(x)\n",
    "        x = self.bn3(x)\n",
    "        x = self.leakyRelu(x)\n",
    "\n",
    "        x = self.conv5(x)\n",
    "        x = self.bn4(x)\n",
    "        x = self.leakyRelu(x)\n",
    "\n",
    "        x = self.conv6(x)\n",
    "        x = self.leakyRelu(x)\n",
    "        x = self.op(x)\n",
    "        x = self.sigmoid(x)\n",
    "        return x.squeeze(2)\n",
    "# seq_size = 1250\n",
    "# batch_size = 32\n",
    "# model = Discriminator(seq_size)\n",
    "\n",
    "# sample_input = torch.randn(batch_size, 1, seq_size)\n",
    "# output = model(sample_input)\n",
    "\n",
    "# print(output.shape)\n"
   ]
  },
  {
   "cell_type": "code",
   "execution_count": 168,
   "metadata": {},
   "outputs": [],
   "source": [
    "class Generator(nn.Module):\n",
    "    def __init__(self, in_channels=1, out_channels=1, num_filters = 32):\n",
    "        super(Generator, self).__init__()\n",
    "        self.enc1 = nn.Sequential(\n",
    "            nn.Conv1d(in_channels, num_filters, kernel_size=4, stride=2, padding=1),\n",
    "            nn.LeakyReLU(0.2)\n",
    "        )\n",
    "        self.enc2 = nn.Sequential(\n",
    "            nn.Conv1d(num_filters, num_filters*2, kernel_size=4, stride=2, padding=1),\n",
    "            nn.BatchNorm1d(num_filters*2),\n",
    "            nn.LeakyReLU(0.2)\n",
    "        )\n",
    "        self.enc3 = nn.Sequential(\n",
    "            nn.Conv1d(num_filters*2, num_filters*4, kernel_size=4, stride=2, padding=1),\n",
    "            nn.BatchNorm1d(num_filters*4),\n",
    "            nn.LeakyReLU(0.2)\n",
    "        )\n",
    "        self.enc4 = nn.Sequential(\n",
    "            nn.Conv1d(num_filters*4, num_filters*8, kernel_size=4, stride=2, padding=1),\n",
    "            nn.BatchNorm1d(num_filters*8),\n",
    "            nn.LeakyReLU(0.2)\n",
    "        )\n",
    "        self.enc5 = nn.Sequential(\n",
    "            nn.Conv1d(num_filters*8, num_filters*8, kernel_size=4, stride=2, padding=1),\n",
    "            nn.BatchNorm1d(num_filters*8),\n",
    "            nn.LeakyReLU(0.2)\n",
    "        )\n",
    "        self.enc6 = nn.Sequential(\n",
    "            nn.Conv1d(num_filters*8, num_filters*8, kernel_size=4, stride=2, padding=1),\n",
    "            nn.BatchNorm1d(num_filters*8),\n",
    "            nn.LeakyReLU(0.2)\n",
    "        )\n",
    "        self.enc7 = nn.Sequential(\n",
    "            nn.Conv1d(num_filters*8, num_filters*16, kernel_size=4, stride=2, padding=1),\n",
    "            nn.BatchNorm1d(num_filters*16),\n",
    "            nn.LeakyReLU(0.2)\n",
    "        )\n",
    "\n",
    "        # Decoder \n",
    "        self.dec1 = nn.Sequential(\n",
    "            nn.ConvTranspose1d(num_filters*16, num_filters*8, kernel_size=4, stride=2, padding=1, output_padding=1),\n",
    "            nn.BatchNorm1d(num_filters*8),\n",
    "            nn.Dropout1d(0.2),\n",
    "            nn.ReLU(),\n",
    "\n",
    "        )\n",
    "        self.dec2 = nn.Sequential(\n",
    "            nn.ConvTranspose1d(num_filters*8, num_filters*8, kernel_size=4, stride=2, padding=1, output_padding=1),  # Skip connection\n",
    "            nn.BatchNorm1d(num_filters*8),\n",
    "            nn.Dropout1d(0.2),\n",
    "            nn.ReLU()\n",
    "        )\n",
    "        self.dec3 = nn.Sequential(\n",
    "            nn.ConvTranspose1d(num_filters*8, num_filters*8, kernel_size=4, stride=2, padding=1),  # Skip connection\n",
    "            nn.BatchNorm1d(num_filters*8),\n",
    "            nn.Dropout1d(0.2),\n",
    "            nn.ReLU()\n",
    "        )\n",
    "        self.dec4 = nn.Sequential(\n",
    "            nn.ConvTranspose1d(num_filters*8, num_filters*4, kernel_size=4, stride=2, padding=1),  # Skip connection\n",
    "            nn.BatchNorm1d(num_filters*4),\n",
    "            nn.ReLU()\n",
    "        )\n",
    "        self.dec5 = nn.Sequential(\n",
    "            nn.ConvTranspose1d(num_filters*4, num_filters*2, kernel_size=4, stride=2, padding=1),  # Skip connection\n",
    "            nn.BatchNorm1d(num_filters*2),\n",
    "            nn.ReLU()\n",
    "        )\n",
    "        self.dec6 = nn.Sequential(\n",
    "            nn.ConvTranspose1d(num_filters*2, num_filters, kernel_size=4, stride=2, padding=1, output_padding=1),  # Skip connection\n",
    "            nn.BatchNorm1d(num_filters),\n",
    "            nn.ReLU()\n",
    "        )\n",
    "        self.dec7 = nn.ConvTranspose1d(num_filters, out_channels, kernel_size=4, stride=2, padding=1)  # Skip connection, no BN\n",
    "        self.final_activation = nn.LeakyReLU(0.2)\n",
    "\n",
    "    def forward(self, x):\n",
    "        # Encoder\n",
    "        x = x.unsqueeze(1)\n",
    "        e1 = self.enc1(x)\n",
    "        e2 = self.enc2(e1)\n",
    "        e3 = self.enc3(e2)\n",
    "        e4 = self.enc4(e3)\n",
    "        e5 = self.enc5(e4)\n",
    "        e6 = self.enc6(e5)\n",
    "        e7 = self.enc7(e6)\n",
    "        #print(e7.shape, \"END OF ENCODER\")\n",
    "\n",
    "        # Decoder with skip connections\n",
    "        d1 = e6 + self.dec1(e7)\n",
    "        d2 = e5 + self.dec2(d1)  \n",
    "        d3 = e4 + self.dec3(d2)\n",
    "        d4 = e3 + self.dec4(d3)\n",
    "        d5 = e2 + self.dec5(d4)\n",
    "        d6 = e1 + self.dec6(d5)\n",
    "        d7 = self.dec7(d6)\n",
    "        return self.final_activation(d7)"
   ]
  },
  {
   "cell_type": "code",
   "execution_count": 169,
   "metadata": {},
   "outputs": [],
   "source": [
    "def time_shifting(ecg_data, w=0.08):\n",
    "    if not (0 <= w <= 1):\n",
    "        raise ValueError(\"w must be between 0 and 1.\")\n",
    "    T = ecg_data.shape[0]\n",
    "    shift_length = int(w * T)\n",
    "    # Perform a circular shift (rotation)\n",
    "    ecg_data = np.roll(ecg_data, shift=shift_length, axis=0)\n",
    "    return ecg_data"
   ]
  },
  {
   "cell_type": "code",
   "execution_count": 170,
   "metadata": {},
   "outputs": [],
   "source": [
    "def time_masking(ecg_data, w=0.05):\n",
    "    if not (0 <= w <= 1):\n",
    "        raise ValueError(\"w must be between 0 and 1.\")\n",
    "    T = ecg_data.shape[0]\n",
    "    mask_length = int(w * T)\n",
    "    ts = np.random.randint(0, T - mask_length + 1)\n",
    "    ecg_data[ts:ts + mask_length, :] = 0\n",
    "    return ecg_data"
   ]
  },
  {
   "cell_type": "code",
   "execution_count": 171,
   "metadata": {},
   "outputs": [],
   "source": [
    "def augment(X, num_masks=num_aug):\n",
    "    augmented_X = []\n",
    "    for i in range(len(X)):\n",
    "        ecg_data = X[i].clone()  # To avoid modifying the original data\n",
    "        \n",
    "        # Append the original data\n",
    "        augmented_X.append(ecg_data)\n",
    "        # Apply rotation num_masks times and append to augmented dataset\n",
    "        for _ in range(num_masks):\n",
    "            augmented_data = time_shifting(ecg_data.numpy())  # Apply time masking to numpy array\n",
    "            masked_data = time_masking(ecg_data.numpy())\n",
    "            augmented_X.append(torch.from_numpy(augmented_data))  # Convert back to torch tensor\n",
    "            augmented_X.append(torch.from_numpy(masked_data))  # Convert back to torch tensor\n",
    "    \n",
    "    # Convert augmented lists back to tensors\n",
    "    augmented_X = torch.stack(augmented_X)\n",
    "    \n",
    "    return augmented_X"
   ]
  },
  {
   "cell_type": "code",
   "execution_count": 185,
   "metadata": {},
   "outputs": [
    {
     "name": "stdout",
     "output_type": "stream",
     "text": [
      "torch.Size([80, 1250, 12])\n"
     ]
    }
   ],
   "source": [
    "\n"
   ]
  },
  {
   "cell_type": "code",
   "execution_count": 190,
   "metadata": {},
   "outputs": [
    {
     "name": "stdout",
     "output_type": "stream",
     "text": [
      "(9514, 28)\n"
     ]
    }
   ],
   "source": [
    "X, _ = load_traindata(num_subclasses)\n",
    "X = torch.tensor(X, dtype=torch.float32)\n",
    "X = X.reshape(int(num_subclasses), int(5000 / seq_size), seq_size, 12)\n",
    "X = X.reshape(int(num_subclasses * int(5000 / seq_size)), seq_size, 12)\n",
    "train_size = int(split_size*len(X))\n",
    "test_size = len(X) - train_size\n",
    "X,X_test = random_split(X,[train_size, test_size])\n",
    "X = augment(X)\n",
    "X_input = X[:, :, 0]  # First channel\n",
    "Y_target = X[:, :, 1]  # Second channel\n",
    "\n",
    "\n",
    "X_test_tensors = [X_test.dataset[idx] for idx in range(len(X_test))] \n",
    "X_test_tensor = torch.stack(X_test_tensors) \n",
    "X_t = X_test_tensor[:, :, 0]  \n",
    "Y_t = X_test_tensor[:, :, 1]"
   ]
  },
  {
   "cell_type": "code",
   "execution_count": 94,
   "metadata": {},
   "outputs": [
    {
     "name": "stdout",
     "output_type": "stream",
     "text": [
      "2.448897 M parameters for Generator\n",
      "1.743317 M parameters for Discriminator\n"
     ]
    }
   ],
   "source": [
    "dataset = TensorDataset(X_input, Y_target)\n",
    "test_dataset = TensorDataset(X_t, Y_t)\n",
    "dataloader = DataLoader(dataset, batch_size=batch_size, shuffle=True)\n",
    "test_dataloader = DataLoader(test_dataset, batch_size=batch_size, shuffle=True)\n",
    "# Initialize models\n",
    "generator = Generator().to(device)\n",
    "discriminator = Discriminator(seq_size).to(device)\n",
    "\n",
    "# Loss function and optimizers\n",
    "criterion = nn.BCELoss()\n",
    "optimizer_g = torch.optim.Adam(generator.parameters(), lr=0.0005, betas=(0.5,0.9))\n",
    "optimizer_d = torch.optim.Adam(discriminator.parameters(), lr=0.0001, betas=(0.5,0.9))\n",
    "print(sum(p.numel() for p in generator.parameters())/1e6, 'M parameters for Generator')\n",
    "print(sum(p.numel() for p in discriminator.parameters())/1e6, 'M parameters for Discriminator')"
   ]
  },
  {
   "cell_type": "code",
   "execution_count": 95,
   "metadata": {},
   "outputs": [],
   "source": [
    "def plotWave(X, Y):\n",
    "    plt.figure(figsize=(20, 6))\n",
    "    plt.plot(X.squeeze(0).detach().cpu().numpy(), color='blue', label='X')\n",
    "    plt.plot(Y.squeeze(0).detach().cpu().numpy(), color='red', label='Y')\n",
    "    plt.legend()\n",
    "    plt.show()"
   ]
  },
  {
   "cell_type": "code",
   "execution_count": 96,
   "metadata": {},
   "outputs": [],
   "source": [
    "g_losses, d_losses = [], []"
   ]
  },
  {
   "cell_type": "code",
   "execution_count": 97,
   "metadata": {},
   "outputs": [
    {
     "name": "stdout",
     "output_type": "stream",
     "text": [
      "Epoch 1/100, D Loss: 0.3261021375656128, G Loss: 2.069563388824463\n",
      "Epoch 2/100, D Loss: 0.325212299823761, G Loss: 2.122236728668213\n",
      "Epoch 3/100, D Loss: 0.32515043020248413, G Loss: 2.0601320266723633\n"
     ]
    },
    {
     "ename": "KeyboardInterrupt",
     "evalue": "",
     "output_type": "error",
     "traceback": [
      "\u001b[0;31m---------------------------------------------------------------------------\u001b[0m",
      "\u001b[0;31mKeyboardInterrupt\u001b[0m                         Traceback (most recent call last)",
      "Cell \u001b[0;32mIn[97], line 4\u001b[0m\n\u001b[1;32m      2\u001b[0m \u001b[38;5;28;01mfor\u001b[39;00m real_1, real_2 \u001b[38;5;129;01min\u001b[39;00m dataloader:\n\u001b[1;32m      3\u001b[0m     real_1, real_2 \u001b[38;5;241m=\u001b[39m real_1\u001b[38;5;241m.\u001b[39mto(torch\u001b[38;5;241m.\u001b[39mfloat32),real_2\u001b[38;5;241m.\u001b[39mto(torch\u001b[38;5;241m.\u001b[39mfloat32)\n\u001b[0;32m----> 4\u001b[0m     real_1, real_2 \u001b[38;5;241m=\u001b[39m \u001b[43mreal_1\u001b[49m\u001b[38;5;241;43m.\u001b[39;49m\u001b[43mto\u001b[49m\u001b[43m(\u001b[49m\u001b[43mdevice\u001b[49m\u001b[43m)\u001b[49m, real_2\u001b[38;5;241m.\u001b[39mto(device)\n\u001b[1;32m      5\u001b[0m     batch_size \u001b[38;5;241m=\u001b[39m real_1\u001b[38;5;241m.\u001b[39msize(\u001b[38;5;241m0\u001b[39m)\n\u001b[1;32m      7\u001b[0m     \u001b[38;5;66;03m# Train Discriminator\u001b[39;00m\n",
      "\u001b[0;31mKeyboardInterrupt\u001b[0m: "
     ]
    }
   ],
   "source": [
    "for epoch in range(epochs):\n",
    "    for real_1, real_2 in dataloader:\n",
    "        real_1, real_2 = real_1.to(torch.float32),real_2.to(torch.float32)\n",
    "        real_1, real_2 = real_1.to(device), real_2.to(device)\n",
    "        batch_size = real_1.size(0)\n",
    "        \n",
    "        # Train Discriminator\n",
    "        optimizer_d.zero_grad()\n",
    "        real_labels = torch.full((batch_size, 1), 0.9).to(device)\n",
    "        fake_labels = torch.full((batch_size, 1), 0.1).to(device)\n",
    "        \n",
    "        fake_2 = generator(real_1)\n",
    "        fake_output = discriminator(fake_2.detach())\n",
    "        fake_loss = criterion(fake_output, fake_labels)\n",
    "\n",
    "\n",
    "        real_2  = real_2.unsqueeze(1)\n",
    "        real_output = discriminator(real_2)\n",
    "        real_loss = criterion(real_output, real_labels)\n",
    "        \n",
    "        d_loss = (real_loss + fake_loss)/2.0\n",
    "        d_loss.backward()\n",
    "        optimizer_d.step()\n",
    "        \n",
    "        # Train Generator\n",
    "        for _ in range(2):\n",
    "            optimizer_g.zero_grad()\n",
    "            fake_output = discriminator(fake_2.detach())\n",
    "            g_loss = criterion(fake_output, real_labels)\n",
    "            g_loss.backward(retain_graph=True)\n",
    "            optimizer_g.step()\n",
    "        \n",
    "    g_losses.append(g_loss.item())\n",
    "    d_losses.append(d_loss.item())\n",
    "    if (epoch+1)%10==0:\n",
    "        print(epoch)\n",
    "        for real_1, real_2 in dataloader:\n",
    "            real_1, real_2 = real_1.to(torch.float32),real_2.to(torch.float32)\n",
    "            real_1, real_2 = real_1.to(device), real_2.to(device)\n",
    "            fake_2 = generator(real_1)\n",
    "            plotWave(fake_2[0],real_2[0])\n",
    "            plotWave(fake_2[12],real_2[12]) #random output\n",
    "            break\n",
    "    print(f\"Epoch {epoch+1}/{epochs}, D Loss: {d_loss.item()}, G Loss: {g_loss.item()}\")\n"
   ]
  }
 ],
 "metadata": {
  "kernelspec": {
   "display_name": ".venv",
   "language": "python",
   "name": "python3"
  },
  "language_info": {
   "codemirror_mode": {
    "name": "ipython",
    "version": 3
   },
   "file_extension": ".py",
   "mimetype": "text/x-python",
   "name": "python",
   "nbconvert_exporter": "python",
   "pygments_lexer": "ipython3",
   "version": "3.12.3"
  }
 },
 "nbformat": 4,
 "nbformat_minor": 2
}
