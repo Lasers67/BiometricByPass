{
 "cells": [
  {
   "cell_type": "code",
   "execution_count": 2,
   "metadata": {},
   "outputs": [
    {
     "name": "stdout",
     "output_type": "stream",
     "text": [
      "cuda\n"
     ]
    }
   ],
   "source": [
    "import torch\n",
    "import torch.nn as nn\n",
    "from torch.nn import functional as F\n",
    "from torch.utils.data import TensorDataset,DataLoader\n",
    "from data import load_traindata\n",
    "device = 'mps' if torch.backends.mps.is_available() else ('cuda' if torch.cuda.is_available() else 'cpu')\n",
    "print(device)\n",
    "import numpy as np\n",
    "import matplotlib.pyplot as plt\n",
    "from torch.utils.data import random_split\n",
    "from torch.optim.lr_scheduler import LambdaLR"
   ]
  },
  {
   "cell_type": "code",
   "execution_count": 3,
   "metadata": {},
   "outputs": [
    {
     "data": {
      "text/plain": [
       "<torch._C.Generator at 0x722ce8dcbb10>"
      ]
     },
     "execution_count": 3,
     "metadata": {},
     "output_type": "execute_result"
    }
   ],
   "source": [
    "torch.manual_seed(42)"
   ]
  },
  {
   "cell_type": "code",
   "execution_count": 4,
   "metadata": {},
   "outputs": [],
   "source": [
    "num_subclasses = 9000\n",
    "epochs = 100\n",
    "seq_size = 1250"
   ]
  },
  {
   "cell_type": "code",
   "execution_count": 5,
   "metadata": {},
   "outputs": [],
   "source": [
    "class Discriminator(nn.Module):\n",
    "    def __init__(self, seq_size, num_filters=64):\n",
    "        super(Discriminator, self).__init__()\n",
    "\n",
    "        self.conv1 = nn.Conv1d(in_channels=1, out_channels=num_filters, kernel_size=4, stride=2, padding=1)\n",
    "        self.leakyRelu = nn.LeakyReLU(0.2, inplace=True)\n",
    "\n",
    "        self.conv2 = nn.Conv1d(in_channels=num_filters, out_channels=num_filters*2, kernel_size=4, stride=2, padding=1)\n",
    "        self.bn1 = nn.BatchNorm1d(num_filters*2)\n",
    "\n",
    "        self.conv3 = nn.Conv1d(in_channels=num_filters*2, out_channels=num_filters*4, kernel_size=4, stride=2, padding=1)\n",
    "        self.bn2 = nn.BatchNorm1d(num_filters*4)\n",
    "\n",
    "        self.conv4 = nn.Conv1d(in_channels=num_filters*4, out_channels=num_filters*8, kernel_size=4, stride=2, padding=1)\n",
    "        self.bn3 = nn.BatchNorm1d(num_filters*8)\n",
    "\n",
    "        self.conv5 = nn.Conv1d(in_channels=num_filters*8, out_channels=num_filters*8, kernel_size=4, stride=2, padding=1)\n",
    "        self.bn4 = nn.BatchNorm1d(num_filters*8)\n",
    "\n",
    "        self.conv6 = nn.Conv1d(in_channels=num_filters*8, out_channels=1, kernel_size=4, stride=2, padding=1)\n",
    "        self.op = nn.Linear(19,1)\n",
    "        self.sigmoid = nn.Sigmoid()\n",
    "\n",
    "    def forward(self, x):\n",
    "        x = self.conv1(x)\n",
    "        x = self.leakyRelu(x)\n",
    "\n",
    "        x = self.conv2(x)\n",
    "        x = self.bn1(x)\n",
    "        x = self.leakyRelu(x)\n",
    "\n",
    "        x = self.conv3(x)\n",
    "        x = self.bn2(x)\n",
    "        x = self.leakyRelu(x)\n",
    "\n",
    "        x = self.conv4(x)\n",
    "        x = self.bn3(x)\n",
    "        x = self.leakyRelu(x)\n",
    "\n",
    "        x = self.conv5(x)\n",
    "        x = self.bn4(x)\n",
    "        x = self.leakyRelu(x)\n",
    "\n",
    "        x = self.conv6(x)\n",
    "        x = self.leakyRelu(x)\n",
    "        x = self.op(x)\n",
    "        x = self.sigmoid(x)\n",
    "        return x.squeeze(2)\n",
    "# seq_size = 1250\n",
    "# batch_size = 32\n",
    "# model = Discriminator(seq_size)\n",
    "\n",
    "# sample_input = torch.randn(batch_size, 1, seq_size)\n",
    "# output = model(sample_input)\n",
    "\n",
    "# print(output.shape)\n"
   ]
  },
  {
   "cell_type": "code",
   "execution_count": 6,
   "metadata": {},
   "outputs": [],
   "source": [
    "class Generator(nn.Module):\n",
    "    def __init__(self, in_channels=1, out_channels=1, num_filters = 32):\n",
    "        super(Generator, self).__init__()\n",
    "        self.enc1 = nn.Sequential(\n",
    "            nn.Conv1d(in_channels, num_filters, kernel_size=4, stride=2, padding=1),\n",
    "            nn.LeakyReLU(0.2)\n",
    "        )\n",
    "        self.enc2 = nn.Sequential(\n",
    "            nn.Conv1d(num_filters, num_filters*2, kernel_size=4, stride=2, padding=1),\n",
    "            nn.BatchNorm1d(num_filters*2),\n",
    "            nn.LeakyReLU(0.2)\n",
    "        )\n",
    "        self.enc3 = nn.Sequential(\n",
    "            nn.Conv1d(num_filters*2, num_filters*4, kernel_size=4, stride=2, padding=1),\n",
    "            nn.BatchNorm1d(num_filters*4),\n",
    "            nn.LeakyReLU(0.2)\n",
    "        )\n",
    "        self.enc4 = nn.Sequential(\n",
    "            nn.Conv1d(num_filters*4, num_filters*8, kernel_size=4, stride=2, padding=1),\n",
    "            nn.BatchNorm1d(num_filters*8),\n",
    "            nn.LeakyReLU(0.2)\n",
    "        )\n",
    "        self.enc5 = nn.Sequential(\n",
    "            nn.Conv1d(num_filters*8, num_filters*8, kernel_size=4, stride=2, padding=1),\n",
    "            nn.BatchNorm1d(num_filters*8),\n",
    "            nn.LeakyReLU(0.2)\n",
    "        )\n",
    "        self.enc6 = nn.Sequential(\n",
    "            nn.Conv1d(num_filters*8, num_filters*8, kernel_size=4, stride=2, padding=1),\n",
    "            nn.BatchNorm1d(num_filters*8),\n",
    "            nn.LeakyReLU(0.2)\n",
    "        )\n",
    "        self.enc7 = nn.Sequential(\n",
    "            nn.Conv1d(num_filters*8, num_filters*16, kernel_size=4, stride=2, padding=1),\n",
    "            nn.BatchNorm1d(num_filters*16),\n",
    "            nn.LeakyReLU(0.2)\n",
    "        )\n",
    "\n",
    "        # Decoder \n",
    "        self.dec1 = nn.Sequential(\n",
    "            nn.ConvTranspose1d(num_filters*16, num_filters*8, kernel_size=4, stride=2, padding=1, output_padding=1),\n",
    "            nn.BatchNorm1d(num_filters*8),\n",
    "            nn.Dropout1d(0.2),\n",
    "            nn.ReLU(),\n",
    "\n",
    "        )\n",
    "        self.dec2 = nn.Sequential(\n",
    "            nn.ConvTranspose1d(num_filters*8, num_filters*8, kernel_size=4, stride=2, padding=1, output_padding=1),  # Skip connection\n",
    "            nn.BatchNorm1d(num_filters*8),\n",
    "            nn.Dropout1d(0.2),\n",
    "            nn.ReLU()\n",
    "        )\n",
    "        self.dec3 = nn.Sequential(\n",
    "            nn.ConvTranspose1d(num_filters*8, num_filters*8, kernel_size=4, stride=2, padding=1),  # Skip connection\n",
    "            nn.BatchNorm1d(num_filters*8),\n",
    "            nn.Dropout1d(0.2),\n",
    "            nn.ReLU()\n",
    "        )\n",
    "        self.dec4 = nn.Sequential(\n",
    "            nn.ConvTranspose1d(num_filters*8, num_filters*4, kernel_size=4, stride=2, padding=1),  # Skip connection\n",
    "            nn.BatchNorm1d(num_filters*4),\n",
    "            nn.ReLU()\n",
    "        )\n",
    "        self.dec5 = nn.Sequential(\n",
    "            nn.ConvTranspose1d(num_filters*4, num_filters*2, kernel_size=4, stride=2, padding=1),  # Skip connection\n",
    "            nn.BatchNorm1d(num_filters*2),\n",
    "            nn.ReLU()\n",
    "        )\n",
    "        self.dec6 = nn.Sequential(\n",
    "            nn.ConvTranspose1d(num_filters*2, num_filters, kernel_size=4, stride=2, padding=1, output_padding=1),  # Skip connection\n",
    "            nn.BatchNorm1d(num_filters),\n",
    "            nn.ReLU()\n",
    "        )\n",
    "        self.dec7 = nn.ConvTranspose1d(num_filters, out_channels, kernel_size=4, stride=2, padding=1)  # Skip connection, no BN\n",
    "        self.final_activation = nn.LeakyReLU(0.2)\n",
    "\n",
    "    def forward(self, x):\n",
    "        # Encoder\n",
    "        x = x.unsqueeze(1)\n",
    "        e1 = self.enc1(x)\n",
    "        e2 = self.enc2(e1)\n",
    "        e3 = self.enc3(e2)\n",
    "        e4 = self.enc4(e3)\n",
    "        e5 = self.enc5(e4)\n",
    "        e6 = self.enc6(e5)\n",
    "        e7 = self.enc7(e6)\n",
    "        #print(e7.shape, \"END OF ENCODER\")\n",
    "\n",
    "        # Decoder with skip connections\n",
    "        d1 = e6 + self.dec1(e7)\n",
    "        d2 = e5 + self.dec2(d1)  \n",
    "        d3 = e4 + self.dec3(d2)\n",
    "        d4 = e3 + self.dec4(d3)\n",
    "        d5 = e2 + self.dec5(d4)\n",
    "        d6 = e1 + self.dec6(d5)\n",
    "        d7 = self.dec7(d6)\n",
    "        return self.final_activation(d7)"
   ]
  },
  {
   "cell_type": "code",
   "execution_count": 7,
   "metadata": {},
   "outputs": [
    {
     "name": "stdout",
     "output_type": "stream",
     "text": [
      "(9514, 28)\n"
     ]
    }
   ],
   "source": [
    "X, _ = load_traindata(num_subclasses)\n",
    "X = torch.tensor(X, dtype=torch.float32)\n",
    "X = X.reshape(num_subclasses, int(5000 / seq_size), seq_size, 12)\n",
    "X = X.reshape(num_subclasses *  int(5000 / seq_size), seq_size, 12)\n",
    "X_input = X[:, :, 0]  # First channel\n",
    "Y_target = X[:, :, 1]  # Second channel"
   ]
  },
  {
   "cell_type": "code",
   "execution_count": 8,
   "metadata": {},
   "outputs": [
    {
     "name": "stdout",
     "output_type": "stream",
     "text": [
      "2.448897 M parameters for Generator\n",
      "1.743317 M parameters for Discriminator\n"
     ]
    }
   ],
   "source": [
    "dataset = TensorDataset(X_input, Y_target)\n",
    "dataloader = DataLoader(dataset, batch_size=32, shuffle=True)\n",
    "\n",
    "# Initialize models\n",
    "generator = Generator().to(device)\n",
    "discriminator = Discriminator(seq_size).to(device)\n",
    "\n",
    "# Loss function and optimizers\n",
    "criterion = nn.BCELoss()\n",
    "optimizer_g = torch.optim.Adam(generator.parameters(), lr=0.0005)\n",
    "optimizer_d = torch.optim.Adam(discriminator.parameters(), lr=0.0001)\n",
    "print(sum(p.numel() for p in generator.parameters())/1e6, 'M parameters for Generator')\n",
    "print(sum(p.numel() for p in discriminator.parameters())/1e6, 'M parameters for Discriminator')"
   ]
  },
  {
   "cell_type": "code",
   "execution_count": 9,
   "metadata": {},
   "outputs": [],
   "source": [
    "def plotWave(X, Y):\n",
    "    plt.figure(figsize=(20, 6))\n",
    "    plt.plot(X.squeeze(0).detach().cpu().numpy(), color='blue', label='X')\n",
    "    plt.plot(Y.squeeze(0).detach().cpu().numpy(), color='red', label='Y')\n",
    "    plt.legend()\n",
    "    plt.show()"
   ]
  },
  {
   "cell_type": "code",
   "execution_count": 10,
   "metadata": {},
   "outputs": [],
   "source": [
    "g_losses, d_losses = [], []"
   ]
  },
  {
   "cell_type": "code",
   "execution_count": 21,
   "metadata": {},
   "outputs": [
    {
     "ename": "RuntimeError",
     "evalue": "one of the variables needed for gradient computation has been modified by an inplace operation: [torch.cuda.FloatTensor [32, 1, 4]] is at version 13334; expected version 13333 instead. Hint: enable anomaly detection to find the operation that failed to compute its gradient, with torch.autograd.set_detect_anomaly(True).",
     "output_type": "error",
     "traceback": [
      "\u001b[0;31m---------------------------------------------------------------------------\u001b[0m",
      "\u001b[0;31mRuntimeError\u001b[0m                              Traceback (most recent call last)",
      "Cell \u001b[0;32mIn[21], line 30\u001b[0m\n\u001b[1;32m     28\u001b[0m         fake_output \u001b[38;5;241m=\u001b[39m discriminator(fake_2)\n\u001b[1;32m     29\u001b[0m         g_loss \u001b[38;5;241m=\u001b[39m criterion(fake_output, real_labels)\n\u001b[0;32m---> 30\u001b[0m         \u001b[43mg_loss\u001b[49m\u001b[38;5;241;43m.\u001b[39;49m\u001b[43mbackward\u001b[49m\u001b[43m(\u001b[49m\u001b[43mretain_graph\u001b[49m\u001b[38;5;241;43m=\u001b[39;49m\u001b[38;5;28;43;01mTrue\u001b[39;49;00m\u001b[43m)\u001b[49m\n\u001b[1;32m     31\u001b[0m         optimizer_g\u001b[38;5;241m.\u001b[39mstep()\n\u001b[1;32m     33\u001b[0m g_losses\u001b[38;5;241m.\u001b[39mappend(g_loss\u001b[38;5;241m.\u001b[39mitem())\n",
      "File \u001b[0;32m~/Desktop/BiometricByPass/.venv/lib/python3.12/site-packages/torch/_tensor.py:581\u001b[0m, in \u001b[0;36mTensor.backward\u001b[0;34m(self, gradient, retain_graph, create_graph, inputs)\u001b[0m\n\u001b[1;32m    571\u001b[0m \u001b[38;5;28;01mif\u001b[39;00m has_torch_function_unary(\u001b[38;5;28mself\u001b[39m):\n\u001b[1;32m    572\u001b[0m     \u001b[38;5;28;01mreturn\u001b[39;00m handle_torch_function(\n\u001b[1;32m    573\u001b[0m         Tensor\u001b[38;5;241m.\u001b[39mbackward,\n\u001b[1;32m    574\u001b[0m         (\u001b[38;5;28mself\u001b[39m,),\n\u001b[0;32m   (...)\u001b[0m\n\u001b[1;32m    579\u001b[0m         inputs\u001b[38;5;241m=\u001b[39minputs,\n\u001b[1;32m    580\u001b[0m     )\n\u001b[0;32m--> 581\u001b[0m \u001b[43mtorch\u001b[49m\u001b[38;5;241;43m.\u001b[39;49m\u001b[43mautograd\u001b[49m\u001b[38;5;241;43m.\u001b[39;49m\u001b[43mbackward\u001b[49m\u001b[43m(\u001b[49m\n\u001b[1;32m    582\u001b[0m \u001b[43m    \u001b[49m\u001b[38;5;28;43mself\u001b[39;49m\u001b[43m,\u001b[49m\u001b[43m \u001b[49m\u001b[43mgradient\u001b[49m\u001b[43m,\u001b[49m\u001b[43m \u001b[49m\u001b[43mretain_graph\u001b[49m\u001b[43m,\u001b[49m\u001b[43m \u001b[49m\u001b[43mcreate_graph\u001b[49m\u001b[43m,\u001b[49m\u001b[43m \u001b[49m\u001b[43minputs\u001b[49m\u001b[38;5;241;43m=\u001b[39;49m\u001b[43minputs\u001b[49m\n\u001b[1;32m    583\u001b[0m \u001b[43m\u001b[49m\u001b[43m)\u001b[49m\n",
      "File \u001b[0;32m~/Desktop/BiometricByPass/.venv/lib/python3.12/site-packages/torch/autograd/__init__.py:347\u001b[0m, in \u001b[0;36mbackward\u001b[0;34m(tensors, grad_tensors, retain_graph, create_graph, grad_variables, inputs)\u001b[0m\n\u001b[1;32m    342\u001b[0m     retain_graph \u001b[38;5;241m=\u001b[39m create_graph\n\u001b[1;32m    344\u001b[0m \u001b[38;5;66;03m# The reason we repeat the same comment below is that\u001b[39;00m\n\u001b[1;32m    345\u001b[0m \u001b[38;5;66;03m# some Python versions print out the first line of a multi-line function\u001b[39;00m\n\u001b[1;32m    346\u001b[0m \u001b[38;5;66;03m# calls in the traceback and some print out the last line\u001b[39;00m\n\u001b[0;32m--> 347\u001b[0m \u001b[43m_engine_run_backward\u001b[49m\u001b[43m(\u001b[49m\n\u001b[1;32m    348\u001b[0m \u001b[43m    \u001b[49m\u001b[43mtensors\u001b[49m\u001b[43m,\u001b[49m\n\u001b[1;32m    349\u001b[0m \u001b[43m    \u001b[49m\u001b[43mgrad_tensors_\u001b[49m\u001b[43m,\u001b[49m\n\u001b[1;32m    350\u001b[0m \u001b[43m    \u001b[49m\u001b[43mretain_graph\u001b[49m\u001b[43m,\u001b[49m\n\u001b[1;32m    351\u001b[0m \u001b[43m    \u001b[49m\u001b[43mcreate_graph\u001b[49m\u001b[43m,\u001b[49m\n\u001b[1;32m    352\u001b[0m \u001b[43m    \u001b[49m\u001b[43minputs\u001b[49m\u001b[43m,\u001b[49m\n\u001b[1;32m    353\u001b[0m \u001b[43m    \u001b[49m\u001b[43mallow_unreachable\u001b[49m\u001b[38;5;241;43m=\u001b[39;49m\u001b[38;5;28;43;01mTrue\u001b[39;49;00m\u001b[43m,\u001b[49m\n\u001b[1;32m    354\u001b[0m \u001b[43m    \u001b[49m\u001b[43maccumulate_grad\u001b[49m\u001b[38;5;241;43m=\u001b[39;49m\u001b[38;5;28;43;01mTrue\u001b[39;49;00m\u001b[43m,\u001b[49m\n\u001b[1;32m    355\u001b[0m \u001b[43m\u001b[49m\u001b[43m)\u001b[49m\n",
      "File \u001b[0;32m~/Desktop/BiometricByPass/.venv/lib/python3.12/site-packages/torch/autograd/graph.py:825\u001b[0m, in \u001b[0;36m_engine_run_backward\u001b[0;34m(t_outputs, *args, **kwargs)\u001b[0m\n\u001b[1;32m    823\u001b[0m     unregister_hooks \u001b[38;5;241m=\u001b[39m _register_logging_hooks_on_whole_graph(t_outputs)\n\u001b[1;32m    824\u001b[0m \u001b[38;5;28;01mtry\u001b[39;00m:\n\u001b[0;32m--> 825\u001b[0m     \u001b[38;5;28;01mreturn\u001b[39;00m \u001b[43mVariable\u001b[49m\u001b[38;5;241;43m.\u001b[39;49m\u001b[43m_execution_engine\u001b[49m\u001b[38;5;241;43m.\u001b[39;49m\u001b[43mrun_backward\u001b[49m\u001b[43m(\u001b[49m\u001b[43m  \u001b[49m\u001b[38;5;66;43;03m# Calls into the C++ engine to run the backward pass\u001b[39;49;00m\n\u001b[1;32m    826\u001b[0m \u001b[43m        \u001b[49m\u001b[43mt_outputs\u001b[49m\u001b[43m,\u001b[49m\u001b[43m \u001b[49m\u001b[38;5;241;43m*\u001b[39;49m\u001b[43margs\u001b[49m\u001b[43m,\u001b[49m\u001b[43m \u001b[49m\u001b[38;5;241;43m*\u001b[39;49m\u001b[38;5;241;43m*\u001b[39;49m\u001b[43mkwargs\u001b[49m\n\u001b[1;32m    827\u001b[0m \u001b[43m    \u001b[49m\u001b[43m)\u001b[49m  \u001b[38;5;66;03m# Calls into the C++ engine to run the backward pass\u001b[39;00m\n\u001b[1;32m    828\u001b[0m \u001b[38;5;28;01mfinally\u001b[39;00m:\n\u001b[1;32m    829\u001b[0m     \u001b[38;5;28;01mif\u001b[39;00m attach_logging_hooks:\n",
      "\u001b[0;31mRuntimeError\u001b[0m: one of the variables needed for gradient computation has been modified by an inplace operation: [torch.cuda.FloatTensor [32, 1, 4]] is at version 13334; expected version 13333 instead. Hint: enable anomaly detection to find the operation that failed to compute its gradient, with torch.autograd.set_detect_anomaly(True)."
     ]
    }
   ],
   "source": [
    "for epoch in range(epochs):\n",
    "    for real_1, real_2 in dataloader:\n",
    "        real_1, real_2 = real_1.to(torch.float32),real_2.to(torch.float32)\n",
    "        real_1, real_2 = real_1.to(device), real_2.to(device)\n",
    "        batch_size = real_1.size(0)\n",
    "        \n",
    "        # Train Discriminator\n",
    "        optimizer_d.zero_grad()\n",
    "        real_labels = torch.full((batch_size, 1), 0.9).to(device)\n",
    "        fake_labels = torch.full((batch_size, 1), 0.1).to(device)\n",
    "        \n",
    "        fake_2 = generator(real_1)\n",
    "        fake_output = discriminator(fake_2.detach())\n",
    "        fake_loss = criterion(fake_output, fake_labels)\n",
    "\n",
    "\n",
    "        real_2  = real_2.unsqueeze(1)\n",
    "        real_output = discriminator(real_2)\n",
    "        real_loss = criterion(real_output, real_labels)\n",
    "        \n",
    "        d_loss = (real_loss + fake_loss)\n",
    "        d_loss.backward()\n",
    "        optimizer_d.step()\n",
    "        \n",
    "        # Train Generator\n",
    "        for _ in range(2):\n",
    "            optimizer_g.zero_grad()\n",
    "            fake_output = discriminator(fake_2)\n",
    "            g_loss = criterion(fake_output, real_labels)\n",
    "            g_loss.backward(retain_graph=True)\n",
    "            optimizer_g.step()\n",
    "        \n",
    "    g_losses.append(g_loss.item())\n",
    "    d_losses.append(d_loss.item())\n",
    "    if (epoch+1)%10==0:\n",
    "        print(epoch)\n",
    "        for real_1, real_2 in dataloader:\n",
    "            real_1, real_2 = real_1.to(torch.float32),real_2.to(torch.float32)\n",
    "            real_1, real_2 = real_1.to(device), real_2.to(device)\n",
    "            fake_2 = generator(real_1)\n",
    "            plotWave(fake_2[0],real_2[0])\n",
    "            plotWave(fake_2[12],real_2[12]) #random output\n",
    "            break\n",
    "    print(f\"Epoch {epoch+1}/{epochs}, D Loss: {d_loss.item()}, G Loss: {g_loss.item()}\")\n"
   ]
  }
 ],
 "metadata": {
  "kernelspec": {
   "display_name": ".venv",
   "language": "python",
   "name": "python3"
  },
  "language_info": {
   "codemirror_mode": {
    "name": "ipython",
    "version": 3
   },
   "file_extension": ".py",
   "mimetype": "text/x-python",
   "name": "python",
   "nbconvert_exporter": "python",
   "pygments_lexer": "ipython3",
   "version": "3.12.3"
  }
 },
 "nbformat": 4,
 "nbformat_minor": 2
}
